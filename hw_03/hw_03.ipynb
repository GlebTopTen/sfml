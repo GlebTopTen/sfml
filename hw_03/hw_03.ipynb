{
 "cells": [
  {
   "cell_type": "code",
   "execution_count": 1,
   "metadata": {},
   "outputs": [],
   "source": [
    "import pandas as pd"
   ]
  },
  {
   "cell_type": "code",
   "execution_count": 2,
   "metadata": {},
   "outputs": [],
   "source": [
    "df_train = pd.read_csv('train.csv')\n",
    "df_test = pd.read_csv('test.csv')"
   ]
  },
  {
   "cell_type": "code",
   "execution_count": 3,
   "metadata": {},
   "outputs": [
    {
     "data": {
      "text/html": [
       "<div>\n",
       "<style scoped>\n",
       "    .dataframe tbody tr th:only-of-type {\n",
       "        vertical-align: middle;\n",
       "    }\n",
       "\n",
       "    .dataframe tbody tr th {\n",
       "        vertical-align: top;\n",
       "    }\n",
       "\n",
       "    .dataframe thead th {\n",
       "        text-align: right;\n",
       "    }\n",
       "</style>\n",
       "<table border=\"1\" class=\"dataframe\">\n",
       "  <thead>\n",
       "    <tr style=\"text-align: right;\">\n",
       "      <th></th>\n",
       "      <th>_id</th>\n",
       "      <th>age</th>\n",
       "      <th>job</th>\n",
       "      <th>marital</th>\n",
       "      <th>education</th>\n",
       "      <th>default</th>\n",
       "      <th>housing</th>\n",
       "      <th>loan</th>\n",
       "      <th>contact</th>\n",
       "      <th>month</th>\n",
       "      <th>...</th>\n",
       "      <th>campaign</th>\n",
       "      <th>pdays</th>\n",
       "      <th>previous</th>\n",
       "      <th>poutcome</th>\n",
       "      <th>emp.var.rate</th>\n",
       "      <th>cons.price.idx</th>\n",
       "      <th>cons.conf.idx</th>\n",
       "      <th>euribor3m</th>\n",
       "      <th>nr.employed</th>\n",
       "      <th>target</th>\n",
       "    </tr>\n",
       "  </thead>\n",
       "  <tbody>\n",
       "    <tr>\n",
       "      <th>0</th>\n",
       "      <td>df7489733b004bbe40d3d37b34f82419</td>\n",
       "      <td>54</td>\n",
       "      <td>technician</td>\n",
       "      <td>married</td>\n",
       "      <td>professional.course</td>\n",
       "      <td>unknown</td>\n",
       "      <td>no</td>\n",
       "      <td>no</td>\n",
       "      <td>cellular</td>\n",
       "      <td>aug</td>\n",
       "      <td>...</td>\n",
       "      <td>1</td>\n",
       "      <td>999</td>\n",
       "      <td>0</td>\n",
       "      <td>nonexistent</td>\n",
       "      <td>1.4</td>\n",
       "      <td>93.444</td>\n",
       "      <td>-36.1</td>\n",
       "      <td>4.963</td>\n",
       "      <td>5228.1</td>\n",
       "      <td>0</td>\n",
       "    </tr>\n",
       "    <tr>\n",
       "      <th>1</th>\n",
       "      <td>905a0b9a5456ee962223033473666be3</td>\n",
       "      <td>36</td>\n",
       "      <td>services</td>\n",
       "      <td>single</td>\n",
       "      <td>basic.4y</td>\n",
       "      <td>no</td>\n",
       "      <td>no</td>\n",
       "      <td>no</td>\n",
       "      <td>telephone</td>\n",
       "      <td>may</td>\n",
       "      <td>...</td>\n",
       "      <td>1</td>\n",
       "      <td>999</td>\n",
       "      <td>0</td>\n",
       "      <td>nonexistent</td>\n",
       "      <td>1.1</td>\n",
       "      <td>93.994</td>\n",
       "      <td>-36.4</td>\n",
       "      <td>4.857</td>\n",
       "      <td>5191.0</td>\n",
       "      <td>0</td>\n",
       "    </tr>\n",
       "    <tr>\n",
       "      <th>2</th>\n",
       "      <td>02d69c07ec6d68e31d641edd45ce61cd</td>\n",
       "      <td>53</td>\n",
       "      <td>blue-collar</td>\n",
       "      <td>married</td>\n",
       "      <td>basic.4y</td>\n",
       "      <td>no</td>\n",
       "      <td>yes</td>\n",
       "      <td>no</td>\n",
       "      <td>cellular</td>\n",
       "      <td>aug</td>\n",
       "      <td>...</td>\n",
       "      <td>1</td>\n",
       "      <td>999</td>\n",
       "      <td>0</td>\n",
       "      <td>nonexistent</td>\n",
       "      <td>1.4</td>\n",
       "      <td>93.444</td>\n",
       "      <td>-36.1</td>\n",
       "      <td>4.965</td>\n",
       "      <td>5228.1</td>\n",
       "      <td>0</td>\n",
       "    </tr>\n",
       "    <tr>\n",
       "      <th>3</th>\n",
       "      <td>e492fbe0cccaf67cdb5c0944dbc8a167</td>\n",
       "      <td>34</td>\n",
       "      <td>blue-collar</td>\n",
       "      <td>married</td>\n",
       "      <td>basic.9y</td>\n",
       "      <td>no</td>\n",
       "      <td>yes</td>\n",
       "      <td>yes</td>\n",
       "      <td>telephone</td>\n",
       "      <td>may</td>\n",
       "      <td>...</td>\n",
       "      <td>2</td>\n",
       "      <td>999</td>\n",
       "      <td>0</td>\n",
       "      <td>nonexistent</td>\n",
       "      <td>1.1</td>\n",
       "      <td>93.994</td>\n",
       "      <td>-36.4</td>\n",
       "      <td>4.857</td>\n",
       "      <td>5191.0</td>\n",
       "      <td>0</td>\n",
       "    </tr>\n",
       "    <tr>\n",
       "      <th>4</th>\n",
       "      <td>ac2dc6f5835bdea8e71dd99b65208d07</td>\n",
       "      <td>29</td>\n",
       "      <td>services</td>\n",
       "      <td>single</td>\n",
       "      <td>university.degree</td>\n",
       "      <td>no</td>\n",
       "      <td>yes</td>\n",
       "      <td>no</td>\n",
       "      <td>telephone</td>\n",
       "      <td>aug</td>\n",
       "      <td>...</td>\n",
       "      <td>1</td>\n",
       "      <td>999</td>\n",
       "      <td>0</td>\n",
       "      <td>nonexistent</td>\n",
       "      <td>-1.7</td>\n",
       "      <td>94.027</td>\n",
       "      <td>-38.3</td>\n",
       "      <td>0.890</td>\n",
       "      <td>4991.6</td>\n",
       "      <td>0</td>\n",
       "    </tr>\n",
       "  </tbody>\n",
       "</table>\n",
       "<p>5 rows × 22 columns</p>\n",
       "</div>"
      ],
      "text/plain": [
       "                                _id  age          job  marital  \\\n",
       "0  df7489733b004bbe40d3d37b34f82419   54   technician  married   \n",
       "1  905a0b9a5456ee962223033473666be3   36     services   single   \n",
       "2  02d69c07ec6d68e31d641edd45ce61cd   53  blue-collar  married   \n",
       "3  e492fbe0cccaf67cdb5c0944dbc8a167   34  blue-collar  married   \n",
       "4  ac2dc6f5835bdea8e71dd99b65208d07   29     services   single   \n",
       "\n",
       "             education  default housing loan    contact month   ...    \\\n",
       "0  professional.course  unknown      no   no   cellular   aug   ...     \n",
       "1             basic.4y       no      no   no  telephone   may   ...     \n",
       "2             basic.4y       no     yes   no   cellular   aug   ...     \n",
       "3             basic.9y       no     yes  yes  telephone   may   ...     \n",
       "4    university.degree       no     yes   no  telephone   aug   ...     \n",
       "\n",
       "  campaign  pdays  previous     poutcome  emp.var.rate cons.price.idx  \\\n",
       "0        1    999         0  nonexistent           1.4         93.444   \n",
       "1        1    999         0  nonexistent           1.1         93.994   \n",
       "2        1    999         0  nonexistent           1.4         93.444   \n",
       "3        2    999         0  nonexistent           1.1         93.994   \n",
       "4        1    999         0  nonexistent          -1.7         94.027   \n",
       "\n",
       "   cons.conf.idx  euribor3m  nr.employed  target  \n",
       "0          -36.1      4.963       5228.1       0  \n",
       "1          -36.4      4.857       5191.0       0  \n",
       "2          -36.1      4.965       5228.1       0  \n",
       "3          -36.4      4.857       5191.0       0  \n",
       "4          -38.3      0.890       4991.6       0  \n",
       "\n",
       "[5 rows x 22 columns]"
      ]
     },
     "execution_count": 3,
     "metadata": {},
     "output_type": "execute_result"
    }
   ],
   "source": [
    "df_train.head()"
   ]
  },
  {
   "cell_type": "code",
   "execution_count": 4,
   "metadata": {},
   "outputs": [
    {
     "data": {
      "text/plain": [
       "array([ 1,  2,  3,  4, 13,  6,  7,  5, 12, 16,  9, 10, 35, 17,  8, 21, 11,\n",
       "       25, 15, 40, 20, 14, 23, 19, 18, 24, 43, 26, 29, 22, 27, 33, 31, 28,\n",
       "       34, 30, 32, 41, 39, 37])"
      ]
     },
     "execution_count": 4,
     "metadata": {},
     "output_type": "execute_result"
    }
   ],
   "source": [
    "df_train.campaign.unique()"
   ]
  },
  {
   "cell_type": "code",
   "execution_count": 6,
   "metadata": {},
   "outputs": [
    {
     "name": "stdout",
     "output_type": "stream",
     "text": [
      "==========\n",
      "job\n",
      "{'retired', 'unemployed', 'services', 'admin.', 'self-employed', 'student', 'management', 'housemaid', 'technician', 'entrepreneur', 'unknown', 'blue-collar'}\n",
      "\n",
      "\n",
      "==========\n",
      "marital\n",
      "{'divorced', 'single', 'unknown', 'married'}\n",
      "\n",
      "\n",
      "==========\n",
      "education\n",
      "{'professional.course', 'basic.6y', 'illiterate', 'basic.4y', 'university.degree', 'high.school', 'unknown', 'basic.9y'}\n",
      "\n",
      "\n",
      "==========\n",
      "default\n",
      "{'yes', 'no', 'unknown'}\n",
      "\n",
      "\n",
      "==========\n",
      "housing\n",
      "{'yes', 'no', 'unknown'}\n",
      "\n",
      "\n",
      "==========\n",
      "loan\n",
      "{'yes', 'no', 'unknown'}\n",
      "\n",
      "\n",
      "==========\n",
      "contact\n",
      "{'telephone', 'cellular'}\n",
      "\n",
      "\n",
      "==========\n",
      "month\n",
      "{'oct', 'apr', 'nov', 'dec', 'aug', 'sep', 'mar', 'jun', 'jul', 'may'}\n",
      "\n",
      "\n",
      "==========\n",
      "day_of_week\n",
      "{'tue', 'mon', 'wed', 'thu', 'fri'}\n",
      "\n",
      "\n",
      "==========\n",
      "poutcome\n",
      "{'success', 'failure', 'nonexistent'}\n",
      "\n",
      "\n"
     ]
    }
   ],
   "source": [
    "for i in df_train.columns: # перебираем все столбцы\n",
    "    if str(df_train[i].dtype) == 'object' and i != '_id': # если тип столбца - object\n",
    "        print('='*10)\n",
    "        print(i) # выводим название столбца\n",
    "        print(set(df_train[i])) # выводим все его значения (но делаем set - чтоб значения не повторялись)\n",
    "        print('\\n') # выводим пустую строку"
   ]
  },
  {
   "cell_type": "code",
   "execution_count": 165,
   "metadata": {},
   "outputs": [],
   "source": [
    "def preproc_data(df_input):\n",
    "    df_output = df_input.copy()\n",
    "    \n",
    "    drop_column_list = ['_id', 'nr.employed']\n",
    "    # 'emp.var.rate', 'cons.price.idx', 'cons.conf.idx', 'euribor3m', \n",
    "    \n",
    "    df_output = df_output.drop(drop_column_list, axis=1)\n",
    "    \n",
    "    gap_column_list = ['default', 'housing', 'loan']\n",
    "    for column in gap_column_list:\n",
    "        df_output[column + '_gap'] = df_output[column].map(lambda x: 1 if (x in set(['unknown'])) else 0)\n",
    "    \n",
    "    one_hot_keys = ['job', 'marital', 'contact', 'education', 'poutcome', 'default', 'housing', 'loan', 'day_of_week', 'month']\n",
    "    #one_hot_keys = ['job', 'marital', 'contact', 'education', 'day_of_week', 'month']\n",
    "    for column in one_hot_keys:\n",
    "        df_one_hot = pd.get_dummies(df_output[column], prefix=column)\n",
    "        df_output = pd.concat([df_output, df_one_hot], axis=1)\n",
    "    df_output = df_output.drop(one_hot_keys, axis=1)\n",
    "        \n",
    "    cleanup_nums = {\n",
    " #                   \"default\": {\"yes\": -1, \"unknown\": 0, \"no\": 1},\n",
    " #                   \"housing\": {\"no\": -1, \"unknown\": 0, \"yes\": 1},\n",
    " #                   \"loan\": {\"no\": -1, \"unknown\": 0, \"yes\": 1},\n",
    " #                   \"poutcome\": {\"failure\": -1, \"nonexistent\": 0, \"success\": 1}\n",
    " #                   \"month\": {\"mar\": 1, \"apr\": 2, \"may\": 3, \"jun\": 4, \"jul\": 5, \"aug\": 6, \"sep\": 7, \"oct\": 8, \"nov\": 9, \"dec\": 10},\n",
    " #                   \"day_of_week\": {\"mon\": 1, \"tue\": 2, \"wed\": 3, \"thu\": 4, \"fri\": 5}\n",
    " #                   \"education\": {\n",
    " #                       \"unknown\": 0,\n",
    " #                       \"illiterate\": 1,\n",
    " #                       \"basic.4y\": 2,\n",
    " #                       \"basic.6y\": 3,\n",
    " #                       \"basic.9y\": 4,\n",
    " #                       \"high.school\": 5,\n",
    " #                       \"professional.course\": 6,\n",
    " #                       \"university.degree\": 7\n",
    " #                   }\n",
    "                   }\n",
    "    df_output.replace(cleanup_nums, inplace=True)\n",
    "        \n",
    "    return df_output"
   ]
  },
  {
   "cell_type": "code",
   "execution_count": 172,
   "metadata": {},
   "outputs": [],
   "source": [
    "df_train_prep = df_train.pipe(preproc_data)"
   ]
  },
  {
   "cell_type": "code",
   "execution_count": 173,
   "metadata": {},
   "outputs": [],
   "source": [
    "X = df_train_prep.drop(['target'], axis=1).values\n",
    "y = df_train_prep['target'].values"
   ]
  },
  {
   "cell_type": "code",
   "execution_count": 174,
   "metadata": {},
   "outputs": [],
   "source": [
    "from sklearn.model_selection import train_test_split\n",
    "# test_size=0.3, random_state=42\n",
    "random_state = 42\n",
    "\n",
    "X_train, X_test, y_train, y_test = train_test_split(X, y, test_size=0.3, random_state=random_state)"
   ]
  },
  {
   "cell_type": "code",
   "execution_count": 179,
   "metadata": {},
   "outputs": [
    {
     "data": {
      "text/plain": [
       "{'DecisionTreeClassifier': array([1, 0, 0, ..., 0, 1, 0]),\n",
       " 'RandomForestClassifier': array([1, 0, 0, ..., 0, 0, 0]),\n",
       " 'KNeighborsClassifier': array([1, 0, 0, ..., 0, 1, 0]),\n",
       " 'LogisticRegression': array([1, 0, 0, ..., 0, 0, 0])}"
      ]
     },
     "execution_count": 179,
     "metadata": {},
     "output_type": "execute_result"
    }
   ],
   "source": [
    "from sklearn.tree import DecisionTreeClassifier\n",
    "from sklearn.ensemble import RandomForestClassifier\n",
    "from sklearn.neighbors import KNeighborsClassifier\n",
    "from sklearn.linear_model import LogisticRegression\n",
    "\n",
    "clrs = {\n",
    "    'DecisionTreeClassifier':DecisionTreeClassifier,\n",
    "    'RandomForestClassifier':RandomForestClassifier,\n",
    "    'KNeighborsClassifier':KNeighborsClassifier,\n",
    "    'LogisticRegression':LogisticRegression\n",
    "}\n",
    "\n",
    "y_pred = {}\n",
    "y_pred_proba = {}\n",
    "\n",
    "for clr_name in clrs.keys():\n",
    "    clr_instance = clrs[clr_name]()\n",
    "    clr_instance.fit(X_train, y_train)\n",
    "    y_pred[clr_name] = clr_instance.predict(X_test)\n",
    "    y_pred_proba[clr_name] = clr_instance.predict_proba(X_test)\n",
    "    \n",
    "y_pred"
   ]
  },
  {
   "cell_type": "code",
   "execution_count": 180,
   "metadata": {},
   "outputs": [
    {
     "name": "stdout",
     "output_type": "stream",
     "text": [
      "DecisionTreeClassifier metrics:  [0.8856217966010251, 0.4970484061393152, 0.49940688018979834, 0.49822485207100586]\n",
      "RandomForestClassifier metrics:  [0.9057189101699488, 0.6313868613138686, 0.41043890865954924, 0.4974838245866284]\n",
      "KNeighborsClassifier metrics:  [0.8970865929322903, 0.5701754385964912, 0.38552787663107946, 0.4600141542816702]\n",
      "LogisticRegression metrics:  [0.9104397086592932, 0.6711281070745698, 0.41637010676156583, 0.5139092240117131]\n"
     ]
    }
   ],
   "source": [
    "from sklearn.metrics import accuracy_score, precision_score, recall_score, f1_score\n",
    "\n",
    "metrics = {}\n",
    "\n",
    "for clr_name in clrs.keys():\n",
    "    \n",
    "    metrics[clr_name] = [accuracy_score(y_test, y_pred[clr_name]),\n",
    "                         precision_score(y_test, y_pred[clr_name]),\n",
    "                         recall_score(y_test, y_pred[clr_name]),\n",
    "                         f1_score(y_test, y_pred[clr_name])\n",
    "                        ]\n",
    "    \n",
    "    print('{} metrics: '.format(clr_name), metrics[clr_name])"
   ]
  },
  {
   "cell_type": "code",
   "execution_count": 181,
   "metadata": {},
   "outputs": [
    {
     "data": {
      "text/plain": [
       "(-0.01, 1.01)"
      ]
     },
     "execution_count": 181,
     "metadata": {},
     "output_type": "execute_result"
    },
    {
     "data": {
      "image/png": "[encoded data removed]",
      "text/plain": [
       "<Figure size 720x720 with 1 Axes>"
      ]
     },
     "metadata": {},
     "output_type": "display_data"
    }
   ],
   "source": [
    "from sklearn.metrics import roc_curve, roc_auc_score\n",
    "import matplotlib.pyplot as plt\n",
    "\n",
    "%matplotlib inline\n",
    "plt.style.use('ggplot')\n",
    "plt.rcParams['figure.figsize'] = (12,5)\n",
    "\n",
    "roc_curve_data = {}\n",
    "\n",
    "for clr_name in clrs.keys():\n",
    "    \n",
    "    roc_curve_data[clr_name] = roc_curve(y_test, y_pred_proba[clr_name][:,1])\n",
    "    \n",
    "#print(roc_curve_data)\n",
    "plt.figure(figsize=(10, 10))\n",
    "\n",
    "for clr_name in clrs.keys():\n",
    "    fpr, tpr, thresholds = roc_curve(y_test, y_pred_proba[clr_name][:,1])\n",
    "    auc = roc_auc_score(y_test, y_pred_proba[clr_name][:,1])\n",
    "    \n",
    "    plt.plot(fpr, tpr, label='{}, ROC AUC: {:.2f}'.format(clr_name, auc))\n",
    "    \n",
    "plt.plot([0, 1], [0, 1])\n",
    "plt.ylabel('tpr')\n",
    "plt.xlabel('fpr')\n",
    "plt.grid(True)\n",
    "plt.title('ROC curve')\n",
    "plt.legend()\n",
    "plt.xlim((-0.01, 1.01))\n",
    "plt.ylim((-0.01, 1.01))"
   ]
  },
  {
   "cell_type": "code",
   "execution_count": 183,
   "metadata": {},
   "outputs": [
    {
     "name": "stdout",
     "output_type": "stream",
     "text": [
      "DecisionTreeClassifier mean ROC AUC:  0.73228\n",
      "RandomForestClassifier mean ROC AUC:  0.91068\n",
      "KNeighborsClassifier mean ROC AUC:  0.847\n",
      "LogisticRegression mean ROC AUC:  0.92874\n"
     ]
    }
   ],
   "source": [
    "from sklearn.model_selection import cross_val_score\n",
    "from sklearn.model_selection import StratifiedKFold\n",
    "# Сделать k-fold (10 фолдов) кросс-валидацию каждой модели\n",
    "# И посчитать средний roc_auc\n",
    "cv_method = StratifiedKFold(n_splits=5, shuffle=True, random_state=123)\n",
    "\n",
    "for clr_name in clrs.keys():\n",
    "    clr_instance = clrs[clr_name]()\n",
    "\n",
    "    print(\n",
    "        '{} mean ROC AUC: '.format(clr_name),\n",
    "        cross_val_score(\n",
    "            clr_instance,\n",
    "            X,\n",
    "            y,\n",
    "            scoring='roc_auc',\n",
    "            cv=cv_method,\n",
    "            n_jobs=-1\n",
    "        ).mean().round(5)\n",
    "    )"
   ]
  },
  {
   "cell_type": "code",
   "execution_count": 184,
   "metadata": {},
   "outputs": [],
   "source": [
    "id = df_test['_id'].values"
   ]
  },
  {
   "cell_type": "code",
   "execution_count": 161,
   "metadata": {},
   "outputs": [],
   "source": [
    "df_test_prep = df_test.pipe(preproc_data)\n",
    "\n",
    "X_ = df_test_prep.values"
   ]
  },
  {
   "cell_type": "code",
   "execution_count": 162,
   "metadata": {},
   "outputs": [
    {
     "data": {
      "text/plain": [
       "LogisticRegression(C=1.0, class_weight=None, dual=False, fit_intercept=True,\n",
       "          intercept_scaling=1, max_iter=100, multi_class='ovr', n_jobs=1,\n",
       "          penalty='l2', random_state=None, solver='liblinear', tol=0.0001,\n",
       "          verbose=0, warm_start=False)"
      ]
     },
     "execution_count": 162,
     "metadata": {},
     "output_type": "execute_result"
    }
   ],
   "source": [
    "clr = LogisticRegression()\n",
    "clr.fit(X, y)"
   ]
  },
  {
   "cell_type": "code",
   "execution_count": 163,
   "metadata": {},
   "outputs": [],
   "source": [
    "y_ = clr.predict(X_)"
   ]
  },
  {
   "cell_type": "code",
   "execution_count": 164,
   "metadata": {},
   "outputs": [],
   "source": [
    "with open('result.csv', 'w') as r:\n",
    "    r.write('_id,target\\n')\n",
    "\n",
    "    for id1, target in zip(id, y_):\n",
    "        r.write('{},{}\\n'.format(id1, target))\n",
    "    \n",
    "    r.close()"
   ]
  },
  {
   "cell_type": "code",
   "execution_count": 168,
   "metadata": {},
   "outputs": [],
   "source": [
    "y_proba_ = clr.predict_proba(X_)"
   ]
  },
  {
   "cell_type": "code",
   "execution_count": 171,
   "metadata": {},
   "outputs": [],
   "source": [
    "with open('result_proba.csv', 'w') as r:\n",
    "    r.write('_id,target\\n')\n",
    "\n",
    "    for id1, target in zip(id, y_proba_[:,1]):\n",
    "        r.write('{},{}\\n'.format(id1, target))\n",
    "    \n",
    "    r.close()"
   ]
  },
  {
   "cell_type": "code",
   "execution_count": 170,
   "metadata": {},
   "outputs": [
    {
     "data": {
      "text/plain": [
       "array([[0.93378637, 0.06621363],\n",
       "       [0.9830647 , 0.0169353 ],\n",
       "       [0.92983517, 0.07016483],\n",
       "       ...,\n",
       "       [0.96100778, 0.03899222],\n",
       "       [0.95257953, 0.04742047],\n",
       "       [0.97015025, 0.02984975]])"
      ]
     },
     "execution_count": 170,
     "metadata": {},
     "output_type": "execute_result"
    }
   ],
   "source": [
    "y_proba_"
   ]
  },
  {
   "cell_type": "code",
   "execution_count": null,
   "metadata": {},
   "outputs": [],
   "source": []
  }
 ],
 "metadata": {
  "kernelspec": {
   "display_name": "Python 3",
   "language": "python",
   "name": "python3"
  },
  "language_info": {
   "codemirror_mode": {
    "name": "ipython",
    "version": 3
   },
   "file_extension": ".py",
   "mimetype": "text/x-python",
   "name": "python",
   "nbconvert_exporter": "python",
   "pygments_lexer": "ipython3",
   "version": "3.6.5"
  }
 },
 "nbformat": 4,
 "nbformat_minor": 2
}
