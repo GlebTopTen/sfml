{
 "cells": [
  {
   "cell_type": "code",
   "execution_count": 13,
   "metadata": {},
   "outputs": [],
   "source": [
    "import pandas as pd\n",
    "from bs4 import BeautifulSoup\n",
    "import numpy as np\n",
    "from sklearn.feature_extraction.text import CountVectorizer, TfidfVectorizer, TfidfTransformer\n",
    "from nltk.corpus import stopwords\n",
    "from nltk import tokenize\n",
    "from nltk.tokenize import word_tokenize"
   ]
  },
  {
   "cell_type": "code",
   "execution_count": 3,
   "metadata": {},
   "outputs": [],
   "source": [
    "# загружаем данные\n",
    "df_train = pd.read_csv('train.csv', sep='\\t')\n",
    "df_test = pd.read_csv('test.csv', sep='\\t')"
   ]
  },
  {
   "cell_type": "code",
   "execution_count": 5,
   "metadata": {},
   "outputs": [],
   "source": [
    "# объединяем в один датафрейм, чтбы удобнее было\n",
    "df_test['target'] = 'NaN'\n",
    "df_train['train'] = 1\n",
    "df_test['train'] = 0\n",
    "\n",
    "df = df_train.append(df_test)\n",
    "\n",
    "# таргет делаем числовым\n",
    "df['target'] = pd.to_numeric(df['target'], errors='coerce')"
   ]
  },
  {
   "cell_type": "code",
   "execution_count": 6,
   "metadata": {},
   "outputs": [],
   "source": [
    "# функция для удаления html-размекти\n",
    "def remove_html_tags(text):\n",
    "    import re\n",
    "    clean = re.compile('<.*?>')\n",
    "    return re.sub(clean, ' ', text)"
   ]
  },
  {
   "cell_type": "code",
   "execution_count": 7,
   "metadata": {},
   "outputs": [],
   "source": [
    "# чистим html-разметку\n",
    "for c in ['description', 'name']:\n",
    "    df[c] = df[c].apply(remove_html_tags)\n",
    "\n",
    "# наверно неважно, находится слово в названии или описании, объединим их в одно текстовое поле\n",
    "df.loc[:, 'text'] = df.loc[:,'name'] + df.loc[:, 'description']"
   ]
  },
  {
   "cell_type": "code",
   "execution_count": 11,
   "metadata": {},
   "outputs": [
    {
     "data": {
      "text/plain": [
       "TfidfVectorizer(analyzer='word', binary=False, decode_error='strict',\n",
       "        dtype=<class 'numpy.int64'>, encoding='utf-8', input='content',\n",
       "        lowercase=True, max_df=1.0, max_features=10000, min_df=1,\n",
       "        ngram_range=(1, 1), norm='l2', preprocessor=None, smooth_idf=True,\n",
       "        stop_words=['и', 'в', 'во', 'не', 'что', 'он', 'на', 'я', 'с', 'со', 'как', 'а', 'то', 'все', 'она', 'так', 'его', 'но', 'да', 'ты', 'к', 'у', 'же', 'вы', 'за', 'бы', 'по', 'только', 'ее', 'мне', 'было', 'вот', 'от', 'меня', 'еще', 'нет', 'о', 'из', 'ему', 'теперь', 'когда', 'даже', 'ну', 'вдруг', '...гда', 'лучше', 'чуть', 'том', 'нельзя', 'такой', 'им', 'более', 'всегда', 'конечно', 'всю', 'между'],\n",
       "        strip_accents=None, sublinear_tf=False,\n",
       "        token_pattern='(?u)\\\\b\\\\w\\\\w+\\\\b', tokenizer=None, use_idf=True,\n",
       "        vocabulary=None)"
      ]
     },
     "execution_count": 11,
     "metadata": {},
     "output_type": "execute_result"
    }
   ],
   "source": [
    "# TF-IDF наверняка будет достаточно, уберем русские стоп-слова, и оставим только N=10000 самых значиымх слов из корпуса в качестве фич\n",
    "tfidf_vect = TfidfVectorizer(stop_words=stopwords.words('russian'), max_features=10000)\n",
    "tfidf_vect.fit(df['text'])"
   ]
  },
  {
   "cell_type": "code",
   "execution_count": 12,
   "metadata": {},
   "outputs": [],
   "source": [
    "# преобразуем все тексты в фичи\n",
    "tfidf_matrix = tfidf_vect.transform(df[df['train'] == 1]['text'])"
   ]
  },
  {
   "cell_type": "code",
   "execution_count": 14,
   "metadata": {},
   "outputs": [],
   "source": [
    "# обучающая выборка\n",
    "X = tfidf_matrix\n",
    "y = df[df['train'] == 1]['target']"
   ]
  },
  {
   "cell_type": "code",
   "execution_count": 16,
   "metadata": {},
   "outputs": [
    {
     "name": "stdout",
     "output_type": "stream",
     "text": [
      "(200000, 10000)\n",
      "(200000,)\n"
     ]
    }
   ],
   "source": [
    "print(X.shape)\n",
    "print(y.shape)"
   ]
  },
  {
   "cell_type": "code",
   "execution_count": 15,
   "metadata": {},
   "outputs": [],
   "source": [
    "from sklearn.model_selection import train_test_split\n",
    "\n",
    "X_train, X_test, y_train, y_test = train_test_split(X, y, test_size=0.2, random_state=123)"
   ]
  },
  {
   "cell_type": "code",
   "execution_count": 20,
   "metadata": {},
   "outputs": [],
   "source": [
    "# посмотрим какой классфикатор будет лучше работать\n",
    "\n",
    "from sklearn.tree import DecisionTreeClassifier\n",
    "from sklearn.ensemble import RandomForestClassifier\n",
    "from sklearn.neighbors import KNeighborsClassifier\n",
    "from sklearn.linear_model import LogisticRegression\n",
    "\n",
    "clrs = {\n",
    "    'DecisionTreeClassifier':DecisionTreeClassifier,\n",
    "    'RandomForestClassifier':RandomForestClassifier,\n",
    "#    'KNeighborsClassifier':KNeighborsClassifier,\n",
    "    'LogisticRegression':LogisticRegression\n",
    "}\n",
    "\n",
    "y_pred = {}\n",
    "y_pred_proba = {}\n",
    "\n",
    "for clr_name in clrs.keys():\n",
    "    clr_instance = clrs[clr_name]()\n",
    "    clr_instance.fit(X_train, y_train)\n",
    "    y_pred[clr_name] = clr_instance.predict(X_test)\n",
    "    y_pred_proba[clr_name] = clr_instance.predict_proba(X_test)"
   ]
  },
  {
   "cell_type": "code",
   "execution_count": 21,
   "metadata": {},
   "outputs": [
    {
     "name": "stdout",
     "output_type": "stream",
     "text": [
      "DecisionTreeClassifier metrics:  [0.941075, 0.9375033672754701, 0.9356382406710398, 0.9365698754003069]\n",
      "RandomForestClassifier metrics:  [0.957725, 0.9530035903756497, 0.9562318528874072, 0.9546149923508414]\n",
      "LogisticRegression metrics:  [0.9606, 0.9503174603174603, 0.9657490052693838, 0.9579710917915623]\n"
     ]
    }
   ],
   "source": [
    "# а метрики то ничего так вышли\n",
    "\n",
    "from sklearn.metrics import accuracy_score, precision_score, recall_score, f1_score\n",
    "\n",
    "metrics = {}\n",
    "\n",
    "for clr_name in clrs.keys():\n",
    "    \n",
    "    metrics[clr_name] = [accuracy_score(y_test, y_pred[clr_name]),\n",
    "                         precision_score(y_test, y_pred[clr_name]),\n",
    "                         recall_score(y_test, y_pred[clr_name]),\n",
    "                         f1_score(y_test, y_pred[clr_name])\n",
    "                        ]\n",
    "    \n",
    "    print('{} metrics: '.format(clr_name), metrics[clr_name])"
   ]
  },
  {
   "cell_type": "code",
   "execution_count": 22,
   "metadata": {},
   "outputs": [
    {
     "data": {
      "text/plain": [
       "(-0.01, 1.01)"
      ]
     },
     "execution_count": 22,
     "metadata": {},
     "output_type": "execute_result"
    },
    {
     "data": {
      "image/png": "[encoded data removed]",
      "text/plain": [
       "<Figure size 720x720 with 1 Axes>"
      ]
     },
     "metadata": {},
     "output_type": "display_data"
    }
   ],
   "source": [
    "# и roc-auc неплохая\n",
    "from sklearn.metrics import roc_curve, roc_auc_score\n",
    "import matplotlib.pyplot as plt\n",
    "\n",
    "%matplotlib inline\n",
    "plt.style.use('ggplot')\n",
    "plt.rcParams['figure.figsize'] = (12,5)\n",
    "\n",
    "roc_curve_data = {}\n",
    "\n",
    "for clr_name in clrs.keys():\n",
    "    \n",
    "    roc_curve_data[clr_name] = roc_curve(y_test, y_pred_proba[clr_name][:,1])\n",
    "    \n",
    "#print(roc_curve_data)\n",
    "plt.figure(figsize=(10, 10))\n",
    "\n",
    "for clr_name in clrs.keys():\n",
    "    fpr, tpr, thresholds = roc_curve(y_test, y_pred_proba[clr_name][:,1])\n",
    "    auc = roc_auc_score(y_test, y_pred_proba[clr_name][:,1])\n",
    "    \n",
    "    plt.plot(fpr, tpr, label='{}, ROC AUC: {:.2f}'.format(clr_name, auc))\n",
    "    \n",
    "plt.plot([0, 1], [0, 1])\n",
    "plt.ylabel('tpr')\n",
    "plt.xlabel('fpr')\n",
    "plt.grid(True)\n",
    "plt.title('ROC curve')\n",
    "plt.legend()\n",
    "plt.xlim((-0.01, 1.01))\n",
    "plt.ylim((-0.01, 1.01))"
   ]
  },
  {
   "cell_type": "code",
   "execution_count": 23,
   "metadata": {},
   "outputs": [],
   "source": [
    "# преобразуем тексты из проверочного множества в фичи\n",
    "\n",
    "tfidf_matrix_validate = tfidf_vect.transform(df[df['train'] == 0]['text'])"
   ]
  },
  {
   "cell_type": "code",
   "execution_count": 24,
   "metadata": {},
   "outputs": [
    {
     "data": {
      "text/plain": [
       "(170179, 10000)"
      ]
     },
     "execution_count": 24,
     "metadata": {},
     "output_type": "execute_result"
    }
   ],
   "source": [
    "X_ = tfidf_matrix_validate\n",
    "\n",
    "X_.shape"
   ]
  },
  {
   "cell_type": "code",
   "execution_count": 26,
   "metadata": {},
   "outputs": [],
   "source": [
    "# логичстическая регрессия выше показала себя лучше всех, её используем для генерации submission\n",
    "clr = LogisticRegression()\n",
    "clr.fit(X, y)\n",
    "y_hat = clr.predict(X_)\n",
    "y_hat_proba = clr.predict_proba(X_)\n",
    "\n",
    "# получили на сабмите 0.96269, можно и успокоиться"
   ]
  },
  {
   "cell_type": "code",
   "execution_count": 38,
   "metadata": {},
   "outputs": [],
   "source": [
    "with open('submission.csv', 'w') as s:\n",
    "    s.write('id,target\\n')\n",
    "    \n",
    "    for id_, target in zip(df_test['id'].values, y_hat):\n",
    "        s.write('{},{:.0n}\\n'.format(id_, target))\n",
    "        \n",
    "s.close()"
   ]
  },
  {
   "cell_type": "markdown",
   "metadata": {},
   "source": [
    "Что можно было бы улучшить?\n",
    "1. Использовать стеммер для уменьшения размерности матрицы фичей\n",
    "1. Обучить Vectorizer на данных из other.csv\n",
    "1. Наверно 10 000 слов - слишком много, можно без потери качества обойтись и меньшим количеством слов, за счет этого ускорить обучение классификатора и\n",
    "1. Подобрать гиперпараметры классификатора, например, через GridSearch\n",
    "1. Использовать модели из statsmodels\n",
    "1. Использовать векторное представление слов из word2vec, а тексты представлять как среднее от всех векторов слов в тексте\n",
    "1. Использованить нейросетевые модели вместо всего этого"
   ]
  },
  {
   "cell_type": "code",
   "execution_count": null,
   "metadata": {},
   "outputs": [],
   "source": []
  }
 ],
 "metadata": {
  "kernelspec": {
   "display_name": "Python 3",
   "language": "python",
   "name": "python3"
  },
  "language_info": {
   "codemirror_mode": {
    "name": "ipython",
    "version": 3
   },
   "file_extension": ".py",
   "mimetype": "text/x-python",
   "name": "python",
   "nbconvert_exporter": "python",
   "pygments_lexer": "ipython3",
   "version": "3.6.5"
  }
 },
 "nbformat": 4,
 "nbformat_minor": 2
}
